{
 "cells": [
  {
   "cell_type": "markdown",
   "id": "e8443702-9e1a-4f74-ba19-33d5457fd975",
   "metadata": {},
   "source": [
    "## Name the four pillars of OOPs."
   ]
  },
  {
   "cell_type": "markdown",
   "id": "c75600f4-9a9a-4ced-926b-32be96dab289",
   "metadata": {},
   "source": [
    "## The four pillars of OOPS are Inheritence,Abstraction,Polymorphism and Encapsulation."
   ]
  }
 ],
 "metadata": {
  "kernelspec": {
   "display_name": "Python 3 (ipykernel)",
   "language": "python",
   "name": "python3"
  },
  "language_info": {
   "codemirror_mode": {
    "name": "ipython",
    "version": 3
   },
   "file_extension": ".py",
   "mimetype": "text/x-python",
   "name": "python",
   "nbconvert_exporter": "python",
   "pygments_lexer": "ipython3",
   "version": "3.10.8"
  }
 },
 "nbformat": 4,
 "nbformat_minor": 5
}
