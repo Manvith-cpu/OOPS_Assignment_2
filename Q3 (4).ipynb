{
 "cells": [
  {
   "cell_type": "markdown",
   "id": "67b140ff-f9d8-4e89-a331-5bb925d466a1",
   "metadata": {},
   "source": [
    "## Explain why the __init__() function is used. Give a suitable example."
   ]
  },
  {
   "cell_type": "markdown",
   "id": "720a3a33-b607-4dfc-9a78-1bac6d88b769",
   "metadata": {},
   "source": [
    "## __init__ is equivalent ti Java constructor in OOP approach\n",
    "## The __init__ method lets the class initialize the object's attributes and serves no other purpose.\n",
    "## It is used only inside the classes"
   ]
  },
  {
   "cell_type": "code",
   "execution_count": 29,
   "id": "274470fc-95c3-4732-a369-35bc8c49eb4b",
   "metadata": {},
   "outputs": [],
   "source": [
    "class Add:\n",
    "    def __init__(self,a,b):\n",
    "        self.a=a\n",
    "        self.b=b\n",
    "    \n",
    "    def gett(self):\n",
    "        print(self.a,self.b)"
   ]
  },
  {
   "cell_type": "code",
   "execution_count": 30,
   "id": "89055e05-8111-477b-8e72-1540c949638b",
   "metadata": {},
   "outputs": [],
   "source": [
    "k=Add(2,4)"
   ]
  },
  {
   "cell_type": "code",
   "execution_count": 31,
   "id": "4af78279-1cc7-4330-941d-47fb32431421",
   "metadata": {},
   "outputs": [
    {
     "name": "stdout",
     "output_type": "stream",
     "text": [
      "3 4\n"
     ]
    }
   ],
   "source": [
    "a.get_value()"
   ]
  }
 ],
 "metadata": {
  "kernelspec": {
   "display_name": "Python 3 (ipykernel)",
   "language": "python",
   "name": "python3"
  },
  "language_info": {
   "codemirror_mode": {
    "name": "ipython",
    "version": 3
   },
   "file_extension": ".py",
   "mimetype": "text/x-python",
   "name": "python",
   "nbconvert_exporter": "python",
   "pygments_lexer": "ipython3",
   "version": "3.10.8"
  }
 },
 "nbformat": 4,
 "nbformat_minor": 5
}
