{
 "cells": [
  {
   "cell_type": "markdown",
   "id": "71f3c636-b11f-4625-b758-e3923664eed3",
   "metadata": {},
   "source": [
    "## Explain Class and Object with respect to Object-Oriented Programming. Give a suitable example."
   ]
  },
  {
   "cell_type": "markdown",
   "id": "fae95547-5a34-47cf-9a3d-d6ca5ad7fd3d",
   "metadata": {},
   "source": [
    "## Class: A class is a template definition of the methods and variables in a particular kind of object.\n",
    "## Object: An object is a specific instance of a class.It contains real values instead of variables."
   ]
  },
  {
   "cell_type": "code",
   "execution_count": 1,
   "id": "f20adcdc-3496-43f3-8cc7-f4e7837e3ac5",
   "metadata": {},
   "outputs": [],
   "source": [
    "class Add:\n",
    "    def return_value(a,b):\n",
    "        return a+b"
   ]
  },
  {
   "cell_type": "code",
   "execution_count": 4,
   "id": "ba8c67e8-6cb7-4cb4-9140-1d04085802ff",
   "metadata": {},
   "outputs": [],
   "source": [
    "a=Add"
   ]
  },
  {
   "cell_type": "code",
   "execution_count": 5,
   "id": "f9884cfc-ecb0-43c5-8a0e-7db219412958",
   "metadata": {},
   "outputs": [
    {
     "data": {
      "text/plain": [
       "8"
      ]
     },
     "execution_count": 5,
     "metadata": {},
     "output_type": "execute_result"
    }
   ],
   "source": [
    "a.return_value(3,5)"
   ]
  }
 ],
 "metadata": {
  "kernelspec": {
   "display_name": "Python 3 (ipykernel)",
   "language": "python",
   "name": "python3"
  },
  "language_info": {
   "codemirror_mode": {
    "name": "ipython",
    "version": 3
   },
   "file_extension": ".py",
   "mimetype": "text/x-python",
   "name": "python",
   "nbconvert_exporter": "python",
   "pygments_lexer": "ipython3",
   "version": "3.10.8"
  }
 },
 "nbformat": 4,
 "nbformat_minor": 5
}
