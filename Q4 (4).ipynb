{
 "cells": [
  {
   "cell_type": "markdown",
   "id": "3af47b1c-96dc-4ad1-a416-fbfec05744ea",
   "metadata": {},
   "source": [
    "## Why self is used in OOPs?"
   ]
  },
  {
   "cell_type": "markdown",
   "id": "323752aa-dd35-4f50-8b4e-9567983ec797",
   "metadata": {},
   "source": [
    "## The self variable is used to represent the instance of the class which is often used in object-oriented programming. It works as a reference to the object. Python uses the self parameter to refer to instance attributes and methods of the class."
   ]
  }
 ],
 "metadata": {
  "kernelspec": {
   "display_name": "Python 3 (ipykernel)",
   "language": "python",
   "name": "python3"
  },
  "language_info": {
   "codemirror_mode": {
    "name": "ipython",
    "version": 3
   },
   "file_extension": ".py",
   "mimetype": "text/x-python",
   "name": "python",
   "nbconvert_exporter": "python",
   "pygments_lexer": "ipython3",
   "version": "3.10.8"
  }
 },
 "nbformat": 4,
 "nbformat_minor": 5
}
